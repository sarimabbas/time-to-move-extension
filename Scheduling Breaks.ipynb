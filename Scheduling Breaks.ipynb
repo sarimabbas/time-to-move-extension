{
 "cells": [
  {
   "cell_type": "markdown",
   "metadata": {},
   "source": [
    "Gaby Branin\n",
    "\n",
    "Making It (ENAS 400)\n",
    "\n",
    "# Calendar Break Scheduler"
   ]
  },
  {
   "cell_type": "code",
   "execution_count": 1,
   "metadata": {},
   "outputs": [],
   "source": [
    "import datetime as dt\n",
    "import pandas as pd\n",
    "import numpy as np"
   ]
  },
  {
   "cell_type": "markdown",
   "metadata": {},
   "source": [
    "### fake schedule\n",
    "contains busy times, beginning of day, and end of day."
   ]
  },
  {
   "cell_type": "code",
   "execution_count": 2,
   "metadata": {},
   "outputs": [],
   "source": [
    "start1 = dt.time(9, 0, 0)\n",
    "end1 = dt.time(10, 0, 0)\n",
    "start2 = dt.time(11, 30, 0)\n",
    "end2 = dt.time(12, 0, 0)\n",
    "start3 = dt.time(14, 0, 0)\n",
    "end3 = dt.time(14, 15, 0)\n",
    "start4 = dt.time(14, 30, 0)\n",
    "end4 = dt.time(16, 0, 0)\n",
    "\n",
    "BOD = dt.time(8, 0, 0)\n",
    "EOD = dt.time(17, 0, 0)"
   ]
  },
  {
   "cell_type": "code",
   "execution_count": 3,
   "metadata": {},
   "outputs": [
    {
     "name": "stdout",
     "output_type": "stream",
     "text": [
      "User BUSY Times\n"
     ]
    },
    {
     "data": {
      "text/html": [
       "<div>\n",
       "<style scoped>\n",
       "    .dataframe tbody tr th:only-of-type {\n",
       "        vertical-align: middle;\n",
       "    }\n",
       "\n",
       "    .dataframe tbody tr th {\n",
       "        vertical-align: top;\n",
       "    }\n",
       "\n",
       "    .dataframe thead th {\n",
       "        text-align: right;\n",
       "    }\n",
       "</style>\n",
       "<table border=\"1\" class=\"dataframe\">\n",
       "  <thead>\n",
       "    <tr style=\"text-align: right;\">\n",
       "      <th></th>\n",
       "      <th>start</th>\n",
       "      <th>end</th>\n",
       "    </tr>\n",
       "  </thead>\n",
       "  <tbody>\n",
       "    <tr>\n",
       "      <th>0</th>\n",
       "      <td>09:00:00</td>\n",
       "      <td>10:00:00</td>\n",
       "    </tr>\n",
       "    <tr>\n",
       "      <th>1</th>\n",
       "      <td>11:30:00</td>\n",
       "      <td>12:00:00</td>\n",
       "    </tr>\n",
       "    <tr>\n",
       "      <th>2</th>\n",
       "      <td>14:00:00</td>\n",
       "      <td>14:15:00</td>\n",
       "    </tr>\n",
       "    <tr>\n",
       "      <th>3</th>\n",
       "      <td>14:30:00</td>\n",
       "      <td>16:00:00</td>\n",
       "    </tr>\n",
       "  </tbody>\n",
       "</table>\n",
       "</div>"
      ],
      "text/plain": [
       "      start       end\n",
       "0  09:00:00  10:00:00\n",
       "1  11:30:00  12:00:00\n",
       "2  14:00:00  14:15:00\n",
       "3  14:30:00  16:00:00"
      ]
     },
     "metadata": {},
     "output_type": "display_data"
    }
   ],
   "source": [
    "busyTimes = pd.DataFrame({'start': [start1, start2, start3, start4], 'end': [end1, end2, end3, end4]})\n",
    "\n",
    "print(\"User BUSY Times\")\n",
    "display(busyTimes)"
   ]
  },
  {
   "cell_type": "markdown",
   "metadata": {},
   "source": [
    "## find free times"
   ]
  },
  {
   "cell_type": "code",
   "execution_count": 4,
   "metadata": {},
   "outputs": [],
   "source": [
    "def getFreeTimes(busy_times, user_BOD, user_EOD):  \n",
    "    \n",
    "#busy_times: comes from user calendar\n",
    "#user_BOD: user beginning of day (input)\n",
    "#user_EOD: user end of day (input)\n",
    "    \n",
    "    freeTimes = pd.DataFrame()\n",
    "    \n",
    "    #beginning of day\n",
    "    if busyTimes.iloc[0,0] > user_BOD:\n",
    "        startFree_BOD = user_BOD\n",
    "        end_first_free = busy_times.iloc[0, 0]\n",
    "\n",
    "        first_free = pd.DataFrame({'start': [startFree_BOD] , 'end': [end_first_free]})\n",
    "\n",
    "        freeTimes = freeTimes.append(first_free)\n",
    "        \n",
    "    \n",
    "    #during day events\n",
    "    for i in np.arange(0, len(busy_times)-1):\n",
    "\n",
    "        startFree = busy_times.iloc[i, 1]\n",
    "        endFree = busy_times.iloc[i+1, 0]\n",
    "\n",
    "        free = pd.DataFrame({'start': [startFree] , 'end': [endFree]})\n",
    "\n",
    "        freeTimes = freeTimes.append(free)\n",
    "    \n",
    "    #end of day case\n",
    "    if busy_times.iloc[len(busy_times)-1, 1] < user_EOD:\n",
    "        startFree_EOD = busy_times.iloc[len(busy_times)-1, 1]\n",
    "        EOD = user_EOD\n",
    "        \n",
    "        last_free = pd.DataFrame({'start': [startFree_EOD] , 'end': [EOD]})\n",
    "        freeTimes = freeTimes.append(last_free)\n",
    "    \n",
    "    return freeTimes"
   ]
  },
  {
   "cell_type": "code",
   "execution_count": 5,
   "metadata": {},
   "outputs": [
    {
     "name": "stdout",
     "output_type": "stream",
     "text": [
      "User FREE times\n"
     ]
    },
    {
     "data": {
      "text/html": [
       "<div>\n",
       "<style scoped>\n",
       "    .dataframe tbody tr th:only-of-type {\n",
       "        vertical-align: middle;\n",
       "    }\n",
       "\n",
       "    .dataframe tbody tr th {\n",
       "        vertical-align: top;\n",
       "    }\n",
       "\n",
       "    .dataframe thead th {\n",
       "        text-align: right;\n",
       "    }\n",
       "</style>\n",
       "<table border=\"1\" class=\"dataframe\">\n",
       "  <thead>\n",
       "    <tr style=\"text-align: right;\">\n",
       "      <th></th>\n",
       "      <th>start</th>\n",
       "      <th>end</th>\n",
       "    </tr>\n",
       "  </thead>\n",
       "  <tbody>\n",
       "    <tr>\n",
       "      <th>0</th>\n",
       "      <td>08:00:00</td>\n",
       "      <td>09:00:00</td>\n",
       "    </tr>\n",
       "    <tr>\n",
       "      <th>0</th>\n",
       "      <td>10:00:00</td>\n",
       "      <td>11:30:00</td>\n",
       "    </tr>\n",
       "    <tr>\n",
       "      <th>0</th>\n",
       "      <td>12:00:00</td>\n",
       "      <td>14:00:00</td>\n",
       "    </tr>\n",
       "    <tr>\n",
       "      <th>0</th>\n",
       "      <td>14:15:00</td>\n",
       "      <td>14:30:00</td>\n",
       "    </tr>\n",
       "    <tr>\n",
       "      <th>0</th>\n",
       "      <td>16:00:00</td>\n",
       "      <td>17:00:00</td>\n",
       "    </tr>\n",
       "  </tbody>\n",
       "</table>\n",
       "</div>"
      ],
      "text/plain": [
       "      start       end\n",
       "0  08:00:00  09:00:00\n",
       "0  10:00:00  11:30:00\n",
       "0  12:00:00  14:00:00\n",
       "0  14:15:00  14:30:00\n",
       "0  16:00:00  17:00:00"
      ]
     },
     "metadata": {},
     "output_type": "display_data"
    }
   ],
   "source": [
    "user_freeTimes = getFreeTimes(busyTimes, BOD, EOD)\n",
    "\n",
    "print(\"User FREE times\")\n",
    "display(user_freeTimes)"
   ]
  },
  {
   "cell_type": "markdown",
   "metadata": {},
   "source": [
    "## schedule breaks"
   ]
  },
  {
   "cell_type": "code",
   "execution_count": 6,
   "metadata": {},
   "outputs": [],
   "source": [
    "#adds specific increment of time to a time value \n",
    "#(witout having to use .timedelta, which would cause me to switch all the .time() to .datetime())\n",
    "\n",
    "def add_secs_to_time(time_val, secs_to_add):\n",
    "    secs = (time_val.hour * 3600) + (time_val.minute * 60) + (time_val.second)\n",
    "    secs += secs_to_add\n",
    "\n",
    "    return dt.time(secs // 3600, (secs % 3600) // 60, secs % 60)"
   ]
  },
  {
   "cell_type": "code",
   "execution_count": 7,
   "metadata": {},
   "outputs": [],
   "source": [
    "def find_breakTimes(freeTimes, break_length, time_between_breaks, time_after_busy, user_BOD):\n",
    "\n",
    "    breakTimes = pd.DataFrame()\n",
    "\n",
    "    #first break of the day:\n",
    "    startBreak = add_secs_to_time(user_BOD, 45*60)\n",
    "    endBreak = add_secs_to_time(startBreak, break_length*60)\n",
    "    one_break = pd.DataFrame({'start': [startBreak] , 'end': [endBreak]})\n",
    "\n",
    "    breakTimes = breakTimes.append(one_break)\n",
    "\n",
    "\n",
    "    for i in np.arange(0,len(freeTimes)):\n",
    "        #break starts user input amount of mins after beginning of free time (= end of busy time)\n",
    "        startBreak = add_secs_to_time((freeTimes.iloc[i, 0]), time_after_busy*60)\n",
    "\n",
    "        #currently a 10 minute break -- should be adjustable for user input\n",
    "        endBreak = add_secs_to_time(startBreak, break_length*60)\n",
    "\n",
    "        possible_break = pd.DataFrame({'start': [startBreak] , 'end': [endBreak]})\n",
    "\n",
    "        #schedule the break if the start and the end of the break are during free time\n",
    "        #possible break start must be after already scheduled break end\n",
    "        \n",
    "        if possible_break.iloc[0,0] > breakTimes.iloc[0,1]: #for the first case\n",
    "            if (freeTimes.iloc[i, 0]) < startBreak < (freeTimes.iloc[i, 1]):\n",
    "                if (freeTimes.iloc[i, 0]) < endBreak < (freeTimes.iloc[i, 1]):\n",
    "                    breakTimes = breakTimes.append(possible_break)\n",
    "\n",
    "        #while the end of the break is less than the end of the free time, schedule more breaks\n",
    "        while (possible_break.iloc[0,1] < freeTimes.iloc[i,1]):\n",
    "            startBreak = add_secs_to_time((possible_break.iloc[0,1]), time_between_breaks*60)\n",
    "\n",
    "            #currently a 10 minute break -- should be adjustable for user input\n",
    "            endBreak = add_secs_to_time(startBreak, break_length*60)\n",
    "\n",
    "            possible_break = pd.DataFrame({'start': [startBreak] , 'end': [endBreak]})\n",
    "\n",
    "            #schedule break if start and end are in free period\n",
    "            if (freeTimes.iloc[i, 0]) < startBreak < (freeTimes.iloc[i, 1]):\n",
    "                if (freeTimes.iloc[i, 0]) < endBreak < (freeTimes.iloc[i, 1]):\n",
    "                    breakTimes = breakTimes.append(possible_break)\n",
    "                    \n",
    "    return breakTimes\n"
   ]
  },
  {
   "cell_type": "code",
   "execution_count": 8,
   "metadata": {},
   "outputs": [
    {
     "data": {
      "text/html": [
       "<div>\n",
       "<style scoped>\n",
       "    .dataframe tbody tr th:only-of-type {\n",
       "        vertical-align: middle;\n",
       "    }\n",
       "\n",
       "    .dataframe tbody tr th {\n",
       "        vertical-align: top;\n",
       "    }\n",
       "\n",
       "    .dataframe thead th {\n",
       "        text-align: right;\n",
       "    }\n",
       "</style>\n",
       "<table border=\"1\" class=\"dataframe\">\n",
       "  <thead>\n",
       "    <tr style=\"text-align: right;\">\n",
       "      <th></th>\n",
       "      <th>start</th>\n",
       "      <th>end</th>\n",
       "    </tr>\n",
       "  </thead>\n",
       "  <tbody>\n",
       "    <tr>\n",
       "      <th>0</th>\n",
       "      <td>08:45:00</td>\n",
       "      <td>08:55:00</td>\n",
       "    </tr>\n",
       "    <tr>\n",
       "      <th>0</th>\n",
       "      <td>10:15:00</td>\n",
       "      <td>10:25:00</td>\n",
       "    </tr>\n",
       "    <tr>\n",
       "      <th>0</th>\n",
       "      <td>11:10:00</td>\n",
       "      <td>11:20:00</td>\n",
       "    </tr>\n",
       "    <tr>\n",
       "      <th>0</th>\n",
       "      <td>12:15:00</td>\n",
       "      <td>12:25:00</td>\n",
       "    </tr>\n",
       "    <tr>\n",
       "      <th>0</th>\n",
       "      <td>13:10:00</td>\n",
       "      <td>13:20:00</td>\n",
       "    </tr>\n",
       "    <tr>\n",
       "      <th>0</th>\n",
       "      <td>16:15:00</td>\n",
       "      <td>16:25:00</td>\n",
       "    </tr>\n",
       "  </tbody>\n",
       "</table>\n",
       "</div>"
      ],
      "text/plain": [
       "      start       end\n",
       "0  08:45:00  08:55:00\n",
       "0  10:15:00  10:25:00\n",
       "0  11:10:00  11:20:00\n",
       "0  12:15:00  12:25:00\n",
       "0  13:10:00  13:20:00\n",
       "0  16:15:00  16:25:00"
      ]
     },
     "metadata": {},
     "output_type": "display_data"
    }
   ],
   "source": [
    "user_breakTimes = find_breakTimes(user_freeTimes, break_length=10, time_between_breaks=45, time_after_busy=15, user_BOD = BOD)\n",
    "display(user_breakTimes)"
   ]
  }
 ],
 "metadata": {
  "kernelspec": {
   "display_name": "Python 3",
   "language": "python",
   "name": "python3"
  },
  "language_info": {
   "codemirror_mode": {
    "name": "ipython",
    "version": 3
   },
   "file_extension": ".py",
   "mimetype": "text/x-python",
   "name": "python",
   "nbconvert_exporter": "python",
   "pygments_lexer": "ipython3",
   "version": "3.8.3"
  }
 },
 "nbformat": 4,
 "nbformat_minor": 4
}
