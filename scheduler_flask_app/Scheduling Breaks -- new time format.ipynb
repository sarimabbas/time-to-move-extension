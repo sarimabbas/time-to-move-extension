{
 "cells": [
  {
   "cell_type": "markdown",
   "metadata": {},
   "source": [
    "Gaby Branin\n",
    "\n",
    "Making It (ENAS 400)\n",
    "\n",
    "# Calendar Break Scheduler"
   ]
  },
  {
   "cell_type": "code",
   "execution_count": 1,
   "metadata": {},
   "outputs": [],
   "source": [
    "import datetime as dt\n",
    "import pandas as pd\n",
    "import numpy as np"
   ]
  },
  {
   "cell_type": "markdown",
   "metadata": {},
   "source": [
    "### fake schedule\n",
    "contains busy times, beginning of day, and end of day."
   ]
  },
  {
   "cell_type": "code",
   "execution_count": 2,
   "metadata": {},
   "outputs": [
    {
     "data": {
      "text/plain": [
       "datetime.date(2021, 4, 22)"
      ]
     },
     "execution_count": 2,
     "metadata": {},
     "output_type": "execute_result"
    }
   ],
   "source": [
    "dt.date.today() + dt.timedelta(days=1)"
   ]
  },
  {
   "cell_type": "code",
   "execution_count": 28,
   "metadata": {},
   "outputs": [],
   "source": [
    "time = dt.datetime.now()\n",
    "\n",
    "start1 = time.replace(hour = 9, minute = 0, second = 0).timestamp()\n",
    "end1 = time.replace(hour = 10, minute = 0, second = 0).timestamp()\n",
    "start2 = time.replace(hour = 11, minute = 30, second = 0).timestamp()\n",
    "end2 = time.replace(hour = 12, minute = 0, second = 0).timestamp()\n",
    "start3 = time.replace(hour = 14, minute = 0, second = 0).timestamp()\n",
    "end3 = time.replace(hour = 14, minute = 15, second = 0).timestamp()\n",
    "start4 = time.replace(hour = 14, minute = 30, second = 0).timestamp()\n",
    "end4 = time.replace(hour = 16, minute = 0, second = 0).timestamp()\n",
    "\n",
    "BOD = time.replace(hour = 8, minute = 0, second = 0).timestamp()\n",
    "EOD = time.replace(hour = 17, minute = 0, second = 0).timestamp()"
   ]
  },
  {
   "cell_type": "code",
   "execution_count": 4,
   "metadata": {},
   "outputs": [
    {
     "name": "stdout",
     "output_type": "stream",
     "text": [
      "User BUSY Times\n"
     ]
    },
    {
     "data": {
      "text/html": [
       "<div>\n",
       "<style scoped>\n",
       "    .dataframe tbody tr th:only-of-type {\n",
       "        vertical-align: middle;\n",
       "    }\n",
       "\n",
       "    .dataframe tbody tr th {\n",
       "        vertical-align: top;\n",
       "    }\n",
       "\n",
       "    .dataframe thead th {\n",
       "        text-align: right;\n",
       "    }\n",
       "</style>\n",
       "<table border=\"1\" class=\"dataframe\">\n",
       "  <thead>\n",
       "    <tr style=\"text-align: right;\">\n",
       "      <th></th>\n",
       "      <th>start</th>\n",
       "      <th>end</th>\n",
       "    </tr>\n",
       "  </thead>\n",
       "  <tbody>\n",
       "    <tr>\n",
       "      <th>0</th>\n",
       "      <td>1.619096e+09</td>\n",
       "      <td>1.619100e+09</td>\n",
       "    </tr>\n",
       "    <tr>\n",
       "      <th>1</th>\n",
       "      <td>1.619105e+09</td>\n",
       "      <td>1.619107e+09</td>\n",
       "    </tr>\n",
       "    <tr>\n",
       "      <th>2</th>\n",
       "      <td>1.619114e+09</td>\n",
       "      <td>1.619115e+09</td>\n",
       "    </tr>\n",
       "    <tr>\n",
       "      <th>3</th>\n",
       "      <td>1.619116e+09</td>\n",
       "      <td>1.619122e+09</td>\n",
       "    </tr>\n",
       "  </tbody>\n",
       "</table>\n",
       "</div>"
      ],
      "text/plain": [
       "          start           end\n",
       "0  1.619096e+09  1.619100e+09\n",
       "1  1.619105e+09  1.619107e+09\n",
       "2  1.619114e+09  1.619115e+09\n",
       "3  1.619116e+09  1.619122e+09"
      ]
     },
     "metadata": {},
     "output_type": "display_data"
    }
   ],
   "source": [
    "busyTimes = pd.DataFrame({'start': [start1, start2, start3, start4], 'end': [end1, end2, end3, end4]})\n",
    "\n",
    "print(\"User BUSY Times\")\n",
    "display(busyTimes)"
   ]
  },
  {
   "cell_type": "markdown",
   "metadata": {},
   "source": [
    "## find free times"
   ]
  },
  {
   "cell_type": "code",
   "execution_count": 5,
   "metadata": {},
   "outputs": [],
   "source": [
    "def getFreeTimes(busy_times, user_BOD, user_EOD):  \n",
    "    \n",
    "#busy_times: comes from user calendar\n",
    "#user_BOD: user beginning of day (input)\n",
    "#user_EOD: user end of day (input)\n",
    "    \n",
    "    freeTimes = pd.DataFrame()\n",
    "    \n",
    "    #beginning of day\n",
    "    if busy_times.iloc[0,0] > user_BOD:\n",
    "        startFree_BOD = user_BOD\n",
    "        end_first_free = busy_times.iloc[0, 0]\n",
    "\n",
    "        first_free = pd.DataFrame({'start': [startFree_BOD] , 'end': [end_first_free]})\n",
    "\n",
    "        freeTimes = freeTimes.append(first_free)\n",
    "        \n",
    "    \n",
    "    #during day events\n",
    "    for i in np.arange(0, len(busy_times)-1):\n",
    "\n",
    "        startFree = busy_times.iloc[i, 1]\n",
    "        endFree = busy_times.iloc[i+1, 0]\n",
    "\n",
    "        free = pd.DataFrame({'start': [startFree] , 'end': [endFree]})\n",
    "\n",
    "        freeTimes = freeTimes.append(free)\n",
    "    \n",
    "    #end of day case\n",
    "    if busy_times.iloc[len(busy_times)-1, 1] < user_EOD:\n",
    "        startFree_EOD = busy_times.iloc[len(busy_times)-1, 1]\n",
    "        EOD = user_EOD\n",
    "        \n",
    "        last_free = pd.DataFrame({'start': [startFree_EOD] , 'end': [EOD]})\n",
    "        freeTimes = freeTimes.append(last_free)\n",
    "    \n",
    "    return freeTimes"
   ]
  },
  {
   "cell_type": "code",
   "execution_count": 6,
   "metadata": {},
   "outputs": [
    {
     "name": "stdout",
     "output_type": "stream",
     "text": [
      "User FREE times\n"
     ]
    },
    {
     "data": {
      "text/html": [
       "<div>\n",
       "<style scoped>\n",
       "    .dataframe tbody tr th:only-of-type {\n",
       "        vertical-align: middle;\n",
       "    }\n",
       "\n",
       "    .dataframe tbody tr th {\n",
       "        vertical-align: top;\n",
       "    }\n",
       "\n",
       "    .dataframe thead th {\n",
       "        text-align: right;\n",
       "    }\n",
       "</style>\n",
       "<table border=\"1\" class=\"dataframe\">\n",
       "  <thead>\n",
       "    <tr style=\"text-align: right;\">\n",
       "      <th></th>\n",
       "      <th>start</th>\n",
       "      <th>end</th>\n",
       "    </tr>\n",
       "  </thead>\n",
       "  <tbody>\n",
       "    <tr>\n",
       "      <th>0</th>\n",
       "      <td>1.619093e+09</td>\n",
       "      <td>1.619096e+09</td>\n",
       "    </tr>\n",
       "    <tr>\n",
       "      <th>0</th>\n",
       "      <td>1.619100e+09</td>\n",
       "      <td>1.619105e+09</td>\n",
       "    </tr>\n",
       "    <tr>\n",
       "      <th>0</th>\n",
       "      <td>1.619107e+09</td>\n",
       "      <td>1.619114e+09</td>\n",
       "    </tr>\n",
       "    <tr>\n",
       "      <th>0</th>\n",
       "      <td>1.619115e+09</td>\n",
       "      <td>1.619116e+09</td>\n",
       "    </tr>\n",
       "    <tr>\n",
       "      <th>0</th>\n",
       "      <td>1.619122e+09</td>\n",
       "      <td>1.619125e+09</td>\n",
       "    </tr>\n",
       "  </tbody>\n",
       "</table>\n",
       "</div>"
      ],
      "text/plain": [
       "          start           end\n",
       "0  1.619093e+09  1.619096e+09\n",
       "0  1.619100e+09  1.619105e+09\n",
       "0  1.619107e+09  1.619114e+09\n",
       "0  1.619115e+09  1.619116e+09\n",
       "0  1.619122e+09  1.619125e+09"
      ]
     },
     "metadata": {},
     "output_type": "display_data"
    }
   ],
   "source": [
    "user_freeTimes = getFreeTimes(busyTimes, BOD, EOD)\n",
    "\n",
    "print(\"User FREE times\")\n",
    "display(user_freeTimes)"
   ]
  },
  {
   "cell_type": "markdown",
   "metadata": {},
   "source": [
    "## schedule breaks"
   ]
  },
  {
   "cell_type": "code",
   "execution_count": 18,
   "metadata": {},
   "outputs": [],
   "source": [
    "def find_breakTimes(freeTimes, break_length, time_between_breaks, time_after_busy, user_BOD):\n",
    "\n",
    "    breakTimes = []\n",
    "    \n",
    "    #first break of the day:\n",
    "    startBreak = user_BOD + (45*60)\n",
    "    endBreak = startBreak + (break_length*60)\n",
    "    one_break = [startBreak, endBreak]\n",
    "\n",
    "    if (freeTimes.iloc[0, 0]) < startBreak < (freeTimes.iloc[0, 1]): #start of break bust be in the free time\n",
    "        if (freeTimes.iloc[0, 0]) < endBreak < (freeTimes.iloc[0, 1]): #end of break bust be in the free time\n",
    "            breakTimes.append(one_break)\n",
    "\n",
    "    for i in np.arange(0,len(freeTimes)):\n",
    "        #break starts user input amount of mins after beginning of free time (= end of busy time)\n",
    "        startBreak = freeTimes.iloc[i, 0] + (time_after_busy*60)\n",
    "        endBreak = startBreak + (break_length*60)\n",
    "\n",
    "        possible_break = [startBreak, endBreak]\n",
    "\n",
    "        #schedule the break if the start and the end of the break are during free time\n",
    "        #possible break start must be after already scheduled break end\n",
    "        \n",
    "        if (possible_break[0]) > (breakTimes[0][1]): #start of possible break must be greater than end of the first manually scheduled break\n",
    "            if (freeTimes.iloc[i, 0]) < startBreak < (freeTimes.iloc[i, 1]): #start of break bust be in the free time\n",
    "                if (freeTimes.iloc[i, 0]) < endBreak < (freeTimes.iloc[i, 1]): #end of break bust be in the free time\n",
    "                    breakTimes.append(possible_break)          \n",
    "                    \n",
    "        #while the end of the break is less than the end of the free time, schedule more breaks\n",
    "        while (possible_break[1] < freeTimes.iloc[i,1]):\n",
    "            startBreak = possible_break[1] + (time_between_breaks*60)\n",
    "\n",
    "            #currently a 10 minute break -- should be adjustable for user input\n",
    "            endBreak = startBreak + (break_length*60)\n",
    "\n",
    "            possible_break = [startBreak, endBreak]\n",
    "\n",
    "            #schedule break if start and end are in free period\n",
    "            if (freeTimes.iloc[i, 0]) < startBreak < (freeTimes.iloc[i, 1]):\n",
    "                if (freeTimes.iloc[i, 0]) < endBreak < (freeTimes.iloc[i, 1]):\n",
    "                    breakTimes.append(possible_break)\n",
    "                    \n",
    "    return breakTimes\n"
   ]
  },
  {
   "cell_type": "code",
   "execution_count": 13,
   "metadata": {},
   "outputs": [
    {
     "data": {
      "text/plain": [
       "[[1619095500.155701, 1619096100.155701],\n",
       " [1619100900.155701, 1619101500.155701],\n",
       " [1619104200.155701, 1619104800.155701],\n",
       " [1619108100.155701, 1619108700.155701],\n",
       " [1619111400.155701, 1619112000.155701],\n",
       " [1619122500.155701, 1619123100.155701]]"
      ]
     },
     "metadata": {},
     "output_type": "display_data"
    }
   ],
   "source": [
    "user_breakTimes = find_breakTimes(user_freeTimes, break_length=10, time_between_breaks=45, time_after_busy=15, user_BOD = BOD)\n",
    "display(user_breakTimes)"
   ]
  },
  {
   "cell_type": "code",
   "execution_count": 14,
   "metadata": {},
   "outputs": [
    {
     "data": {
      "text/plain": [
       "[['2021-04-22 12:45:00', '2021-04-22 12:55:00'],\n",
       " ['2021-04-22 14:15:00', '2021-04-22 14:25:00'],\n",
       " ['2021-04-22 15:10:00', '2021-04-22 15:20:00'],\n",
       " ['2021-04-22 16:15:00', '2021-04-22 16:25:00'],\n",
       " ['2021-04-22 17:10:00', '2021-04-22 17:20:00'],\n",
       " ['2021-04-22 20:15:00', '2021-04-22 20:25:00']]"
      ]
     },
     "metadata": {},
     "output_type": "display_data"
    }
   ],
   "source": [
    "converted_breakTimes = []\n",
    "\n",
    "for i in np.arange(0, len(user_breakTimes)):\n",
    "    start = dt.datetime.fromtimestamp(user_breakTimes[i][0]).strftime('%Y-%m-%d %H:%M:%S')\n",
    "    end = dt.datetime.fromtimestamp(user_breakTimes[i][1]).strftime('%Y-%m-%d %H:%M:%S')\n",
    "    converted_breakTimes.append([start,end])\n",
    "    \n",
    "\n",
    "display(converted_breakTimes)"
   ]
  },
  {
   "cell_type": "code",
   "execution_count": null,
   "metadata": {},
   "outputs": [],
   "source": []
  }
 ],
 "metadata": {
  "kernelspec": {
   "display_name": "Python 3",
   "language": "python",
   "name": "python3"
  },
  "language_info": {
   "codemirror_mode": {
    "name": "ipython",
    "version": 3
   },
   "file_extension": ".py",
   "mimetype": "text/x-python",
   "name": "python",
   "nbconvert_exporter": "python",
   "pygments_lexer": "ipython3",
   "version": "3.8.3"
  }
 },
 "nbformat": 4,
 "nbformat_minor": 4
}